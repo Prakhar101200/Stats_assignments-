{
 "cells": [
  {
   "cell_type": "code",
   "execution_count": 1,
   "id": "dd0cf1b5",
   "metadata": {
    "id": "dd0cf1b5"
   },
   "outputs": [],
   "source": [
    "import scipy                        # scientific computation library\n",
    "import numpy as np\n",
    "import pandas as pd\n",
    "import seaborn as sns               # Advaced Visualization with high level interface\n",
    "import matplotlib.pyplot as plt     # Visualization\n",
    "import scipy.stats as stats\n",
    "from math import factorial\n",
    "from scipy import integrate         # several integration techniques\n",
    "# Importing various continuos and discrete probability distributions\n",
    "from scipy.stats import beta, norm, binom, expon, uniform, multivariate_normal, bernoulli, poisson\n",
    "\n",
    "sns.set_style('whitegrid')\n",
    "import warnings\n",
    "warnings.filterwarnings(\"ignore\")"
   ]
  },
  {
   "cell_type": "markdown",
   "id": "07c8c0b2",
   "metadata": {
    "id": "07c8c0b2"
   },
   "source": [
    "\n",
    "### 1. Find the Cartesian Product of the below given sets in the below cell. (In Python Code)\n",
    "\n",
    "A = set(['a','b','c'])\n",
    "\n",
    "S = {1,2,3}\n"
   ]
  },
  {
   "cell_type": "code",
   "execution_count": 5,
   "id": "8b2078fa",
   "metadata": {
    "id": "8b2078fa"
   },
   "outputs": [
    {
     "name": "stdout",
     "output_type": "stream",
     "text": [
      "{('c', 2), ('b', 2), ('a', 3), ('c', 1), ('a', 2), ('b', 1), ('c', 3), ('a', 1), ('b', 3)}\n"
     ]
    }
   ],
   "source": [
    "from itertools import product\n",
    "A = set(['a', 'b', 'c'])\n",
    "S = {1,2,3}\n",
    "cartesian_prod = set(product(A, S))\n",
    "print(cartesian_prod)"
   ]
  },
  {
   "cell_type": "markdown",
   "id": "3d43b9ee",
   "metadata": {
    "id": "3d43b9ee"
   },
   "source": [
    "### 2. Find all the possible permutations and number of permutations of A\n",
    "\n",
    "A = {'Red','Green','Blue'}\n"
   ]
  },
  {
   "cell_type": "code",
   "execution_count": 6,
   "id": "52c18588",
   "metadata": {
    "id": "52c18588"
   },
   "outputs": [],
   "source": [
    "from itertools import permutations "
   ]
  },
  {
   "cell_type": "code",
   "execution_count": 7,
   "id": "51509b5e",
   "metadata": {
    "id": "51509b5e"
   },
   "outputs": [
    {
     "name": "stdout",
     "output_type": "stream",
     "text": [
      "All permutations are: {('Red', 'Green', 'Blue'), ('Green', 'Blue', 'Red'), ('Blue', 'Green', 'Red'), ('Green', 'Red', 'Blue'), ('Blue', 'Red', 'Green'), ('Red', 'Blue', 'Green')}\n",
      "Number of permutations: 6\n"
     ]
    }
   ],
   "source": [
    "A = {'Red', 'Green', 'Blue'}\n",
    "all_permutations = set(permutations(A))\n",
    "num_of_permutations = len(all_permutations)\n",
    "print(\"All permutations are:\", all_permutations)\n",
    "print(\"Number of permutations:\", num_of_permutations)"
   ]
  },
  {
   "cell_type": "markdown",
   "id": "637ffa24",
   "metadata": {
    "id": "637ffa24"
   },
   "source": [
    "### 3. Research Question on Hypothesis Testing\n",
    "\n",
    "In previous years, 52% of parents believed that electronics and social media was the cause of their teenager’s lack of sleep. Do more parents today believe that their teenager’s lack of sleep is caused due to electronics and social media?\n",
    "\n",
    "**Population**: Parents with a teenager (age 13-18)  \n",
    "**Parameter of Interest**: p  \n",
    "\n",
    "**Null Hypothesis:** p = 0.52  \n",
    "**Alternative Hypthosis:** p > 0.52 (note that this is a one-sided test)\n",
    "\n",
    "**Data**: 1018 people were surveyed. 56% of those who were surveyed believe that their teenager’s lack of sleep is caused due to electronics and social media."
   ]
  },
  {
   "cell_type": "markdown",
   "id": "4786f83f",
   "metadata": {
    "id": "4786f83f"
   },
   "source": [
    "### Hint: Use  `proportions_ztest()` from `statsmodels`\n",
    "\n",
    "Note the argument `alternative=\"larger\"` indicating a one-sided test. The function returns two values - the z-statistic and the corresponding p-value."
   ]
  },
  {
   "cell_type": "code",
   "execution_count": 3,
   "id": "ef9c519e",
   "metadata": {},
   "outputs": [],
   "source": [
    "import statsmodels.api as sm"
   ]
  },
  {
   "cell_type": "code",
   "execution_count": 1,
   "id": "475fe79a",
   "metadata": {
    "id": "475fe79a"
   },
   "outputs": [
    {
     "data": {
      "text/plain": [
       "0.05"
      ]
     },
     "execution_count": 1,
     "metadata": {},
     "output_type": "execute_result"
    }
   ],
   "source": [
    "#significance is 5% i.e. 0.05\n",
    "5/100"
   ]
  },
  {
   "cell_type": "code",
   "execution_count": 2,
   "id": "ea2af9e3",
   "metadata": {},
   "outputs": [],
   "source": [
    "n = 1018\n",
    "pnull = 0.52\n",
    "phat = 0.56"
   ]
  },
  {
   "cell_type": "code",
   "execution_count": 4,
   "id": "1aac2ee2",
   "metadata": {},
   "outputs": [
    {
     "data": {
      "text/plain": [
       "(2.571067795759113, 0.005069273865860533)"
      ]
     },
     "execution_count": 4,
     "metadata": {},
     "output_type": "execute_result"
    }
   ],
   "source": [
    "sm.stats.proportions_ztest(phat * n, n, pnull, alternative='larger')"
   ]
  },
  {
   "cell_type": "markdown",
   "id": "e64e5437",
   "metadata": {
    "id": "e64e5437"
   },
   "source": [
    "### What is your Conclusion of the hypothesis test\n"
   ]
  },
  {
   "cell_type": "markdown",
   "id": "d5189202",
   "metadata": {
    "id": "4da83967"
   },
   "source": [
    "Since the p-value of the z-test is small, thus, we can reject the null hypothesis stating the parents of the kids, who believe that the lack of their teenagers sleep is due to the electronics and social media is as same as the previous year which is 52%. Thus, we can conclude on the fact that there is a high chance of the percentage of those parents is way higher with the proportions being more than 52%.  "
   ]
  },
  {
   "cell_type": "markdown",
   "id": "4503f17c",
   "metadata": {
    "id": "4503f17c"
   },
   "source": [
    "### 4. Calculate the set difference between the 2 sets (set1 - multipes of 3 upto a range of 31 and set2 - multiples of upto a range of 31)"
   ]
  },
  {
   "cell_type": "code",
   "execution_count": 8,
   "id": "d2760c77",
   "metadata": {
    "id": "d2760c77"
   },
   "outputs": [
    {
     "name": "stdout",
     "output_type": "stream",
     "text": [
      "The difference between both sets: {4, 7, 10, 16, 19, 22, 28}\n"
     ]
    }
   ],
   "source": [
    "#defining set 1 \n",
    "set1 = set(range(1, 31, 3))\n",
    "#defining set 2\n",
    "set2 = set(range(1, 31, 4))\n",
    "result = set1 - set2 #calculating difference between both sets\n",
    "\n",
    "print(\"The difference between both sets:\", result)"
   ]
  },
  {
   "cell_type": "code",
   "execution_count": null,
   "id": "b10dc469",
   "metadata": {
    "id": "b10dc469"
   },
   "outputs": [],
   "source": []
  },
  {
   "cell_type": "markdown",
   "id": "796c2e91",
   "metadata": {
    "id": "796c2e91"
   },
   "source": [
    "### 5. Calculate a function to generate random arrays with range of (1,100) and the naive functions to calculate Mean, Varience and Standard deviation for the array generated"
   ]
  },
  {
   "cell_type": "code",
   "execution_count": 10,
   "id": "9c7a2930",
   "metadata": {
    "id": "9c7a2930"
   },
   "outputs": [
    {
     "name": "stdout",
     "output_type": "stream",
     "text": [
      "Random Array: [93  5 89 15 63 49 61 20 28 45 94 96 85 70 32 47 12 48 79 76  1 65 84 30\n",
      " 75 71 47 26 50 26 45 11 33 45 74 33 71 13 77 46 16 62 94 25 59 92 17 34\n",
      " 64 16 82 38 13 62 96 24 11 34 31 53 47 23 27 57 73 72 26 71 14 25 37 54\n",
      "  7 12 66 43 43 27 38 36 80 58 46 52 28 85 41 26 97 51 95 22 44 65  1 21\n",
      " 81 42 74 28]\n",
      "Mean value: 47.88\n",
      "Variance: 684.8256000000001\n",
      "Standard Deviation: 26.169172703774954\n"
     ]
    }
   ],
   "source": [
    "array = np.random.randint(1, 101, 100)\n",
    "\n",
    "mean_val = np.mean(array)\n",
    "variance = np.var(array)\n",
    "std_deviation_val = np.std(array)\n",
    "\n",
    "print(\"Random Array:\", array)\n",
    "print(\"Mean value:\", mean_val)\n",
    "print(\"Variance:\", variance)\n",
    "print(\"Standard Deviation:\", std_deviation_val)"
   ]
  },
  {
   "cell_type": "code",
   "execution_count": null,
   "id": "d9df5a6b",
   "metadata": {
    "id": "d9df5a6b"
   },
   "outputs": [],
   "source": []
  }
 ],
 "metadata": {
  "colab": {
   "provenance": []
  },
  "kernelspec": {
   "display_name": "Python 3 (ipykernel)",
   "language": "python",
   "name": "python3"
  },
  "language_info": {
   "codemirror_mode": {
    "name": "ipython",
    "version": 3
   },
   "file_extension": ".py",
   "mimetype": "text/x-python",
   "name": "python",
   "nbconvert_exporter": "python",
   "pygments_lexer": "ipython3",
   "version": "3.11.4"
  }
 },
 "nbformat": 4,
 "nbformat_minor": 5
}
